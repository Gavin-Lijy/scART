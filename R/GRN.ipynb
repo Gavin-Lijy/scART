{
 "cells": [
  {
   "cell_type": "code",
   "execution_count": 1,
   "metadata": {},
   "outputs": [],
   "source": [
    "import os\n",
    "import numpy as np\n",
    "import pandas as pd\n",
    "import scanpy as sc\n",
    "from cytoolz import compose\n",
    "import operator as op"
   ]
  },
  {
   "cell_type": "code",
   "execution_count": 2,
   "metadata": {},
   "outputs": [],
   "source": [
    "import loompy as lp"
   ]
  },
  {
   "cell_type": "code",
   "execution_count": 3,
   "metadata": {},
   "outputs": [],
   "source": [
    "import scipy"
   ]
  },
  {
   "cell_type": "code",
   "execution_count": 4,
   "metadata": {},
   "outputs": [],
   "source": [
    "from scipy import sparse, io"
   ]
  },
  {
   "cell_type": "code",
   "execution_count": 5,
   "metadata": {},
   "outputs": [],
   "source": [
    "from MulticoreTSNE import MulticoreTSNE as TSNE"
   ]
  },
  {
   "cell_type": "code",
   "execution_count": 6,
   "metadata": {},
   "outputs": [
    {
     "name": "stdout",
     "output_type": "stream",
     "text": [
      "WARNING: If you miss a compact list, please try `print_header`!\n",
      "-----\n",
      "anndata     0.7.5\n",
      "scanpy      1.6.0\n",
      "sinfo       0.3.1\n",
      "-----\n",
      "MulticoreTSNE       NA\n",
      "PIL                 8.1.2\n",
      "anndata             0.7.5\n",
      "anyio               NA\n",
      "argon2              20.1.0\n",
      "attr                20.3.0\n",
      "babel               2.9.0\n",
      "backcall            0.2.0\n",
      "bottleneck          1.3.2\n",
      "brotli              NA\n",
      "certifi             2020.12.05\n",
      "cffi                1.14.5\n",
      "chardet             4.0.0\n",
      "cloudpickle         1.6.0\n",
      "colorama            0.4.4\n",
      "cycler              0.10.0\n",
      "cython_runtime      NA\n",
      "cytoolz             0.11.0\n",
      "dask                2021.05.0\n",
      "dateutil            2.8.1\n",
      "decorator           5.0.7\n",
      "deprecation         2.1.0\n",
      "fsspec              0.9.0\n",
      "get_version         2.1\n",
      "google              NA\n",
      "h5py                3.1.0\n",
      "idna                2.10\n",
      "igraph              0.9.1\n",
      "ipykernel           5.5.3\n",
      "ipython_genutils    0.2.0\n",
      "jedi                0.17.2\n",
      "jinja2              2.11.3\n",
      "joblib              1.0.1\n",
      "json5               NA\n",
      "jsonschema          3.2.0\n",
      "jupyter_packaging   NA\n",
      "jupyter_server      1.6.2\n",
      "jupyterlab_server   2.4.0\n",
      "kiwisolver          1.3.1\n",
      "legacy_api_wrap     1.2\n",
      "leidenalg           0.8.4\n",
      "llvmlite            0.35.0\n",
      "loompy              3.0.6\n",
      "louvain             0.7.0\n",
      "markupsafe          1.1.1\n",
      "matplotlib          3.4.1\n",
      "mpl_toolkits        NA\n",
      "natsort             7.0.1\n",
      "nbclassic           NA\n",
      "nbformat            5.1.3\n",
      "numba               0.52.0\n",
      "numexpr             2.7.3\n",
      "numpy               1.20.1\n",
      "numpy_groupies      0.9.13\n",
      "packaging           20.9\n",
      "pandas              1.2.4\n",
      "parso               0.7.0\n",
      "pexpect             4.8.0\n",
      "pickleshare         0.7.5\n",
      "pkg_resources       NA\n",
      "prometheus_client   NA\n",
      "prompt_toolkit      3.0.18\n",
      "psutil              5.8.0\n",
      "ptyprocess          0.7.0\n",
      "pvectorc            NA\n",
      "pyarrow             0.16.0\n",
      "pycparser           2.20\n",
      "pygments            2.8.1\n",
      "pyparsing           2.4.7\n",
      "pyrsistent          NA\n",
      "pytz                2021.1\n",
      "requests            2.25.1\n",
      "scanpy              1.6.0\n",
      "scipy               1.6.2\n",
      "send2trash          NA\n",
      "setuptools          49.6.0.post20210108\n",
      "setuptools_scm      NA\n",
      "sinfo               0.3.1\n",
      "six                 1.15.0\n",
      "sklearn             0.21.3\n",
      "sniffio             1.2.0\n",
      "socks               1.7.1\n",
      "sphinxcontrib       NA\n",
      "storemagic          NA\n",
      "tables              3.6.1\n",
      "tblib               1.7.0\n",
      "terminado           0.9.4\n",
      "texttable           1.6.3\n",
      "tlz                 0.11.0\n",
      "toolz               0.11.1\n",
      "tornado             6.1\n",
      "traitlets           5.0.5\n",
      "typing_extensions   NA\n",
      "urllib3             1.26.4\n",
      "wcwidth             0.2.5\n",
      "wheel               0.36.2\n",
      "yaml                5.3.1\n",
      "zmq                 22.0.3\n",
      "zope                NA\n",
      "-----\n",
      "IPython             7.22.0\n",
      "jupyter_client      6.1.12\n",
      "jupyter_core        4.7.1\n",
      "jupyterlab          3.0.14\n",
      "notebook            6.3.0\n",
      "-----\n",
      "Python 3.8.8 | packaged by conda-forge | (default, Feb 20 2021, 16:22:27) [GCC 9.3.0]\n",
      "Linux-5.4.0-53-generic-x86_64-with-glibc2.10\n",
      "24 logical CPU cores, x86_64\n",
      "-----\n",
      "Session information updated at 2021-05-15 16:51\n",
      "\n"
     ]
    }
   ],
   "source": [
    "sc.settings.verbosity = 3 # verbosity: errors (0), warnings (1), info (2), hints (3)\n",
    "sc.logging.print_versions()\n",
    "sc.set_figure_params(dpi=150, fontsize=10, dpi_save=600)"
   ]
  },
  {
   "cell_type": "code",
   "execution_count": 5,
   "metadata": {},
   "outputs": [],
   "source": [
    "os.chdir('/home/lijingyu/art/GRN/')"
   ]
  },
  {
   "cell_type": "code",
   "execution_count": 6,
   "metadata": {},
   "outputs": [],
   "source": [
    "# read the count matrix into a sparse matrix, and the cell and region annotations as pandas DataFrames\n",
    "counts = scipy.io.mmread(\"gmat.mtx\").T"
   ]
  },
  {
   "cell_type": "code",
   "execution_count": 7,
   "metadata": {},
   "outputs": [],
   "source": [
    "counts=counts.tocsc()"
   ]
  },
  {
   "cell_type": "code",
   "execution_count": 8,
   "metadata": {},
   "outputs": [],
   "source": [
    "genes = pd.read_csv(\"var.tsv\",header=0,index_col=0)\n",
    "cells = pd.read_csv(\"obs.tsv\", header=0,index_col=0)\n",
    "\n",
    "# then initialize a new AnnData object"
   ]
  },
  {
   "cell_type": "code",
   "execution_count": 9,
   "metadata": {},
   "outputs": [],
   "source": [
    "genes.index=genes['gene'].tolist()"
   ]
  },
  {
   "cell_type": "code",
   "execution_count": 10,
   "metadata": {},
   "outputs": [],
   "source": [
    "adata = sc.AnnData(X=counts, obs=cells, var=genes)"
   ]
  },
  {
   "cell_type": "code",
   "execution_count": 11,
   "metadata": {},
   "outputs": [],
   "source": [
    "sc.pp.filter_genes(adata, min_cells=40 )"
   ]
  },
  {
   "cell_type": "code",
   "execution_count": 12,
   "metadata": {},
   "outputs": [
    {
     "data": {
      "image/png": "[encoded data removed]",
      "text/plain": [
       "<Figure size 864x288 with 2 Axes>"
      ]
     },
     "metadata": {
      "needs_background": "light"
     },
     "output_type": "display_data"
    }
   ],
   "source": [
    "sc.pp.highly_variable_genes(adata,n_top_genes=2000)\n",
    "sc.pl.highly_variable_genes(adata)"
   ]
  },
  {
   "cell_type": "code",
   "execution_count": 13,
   "metadata": {},
   "outputs": [
    {
     "name": "stderr",
     "output_type": "stream",
     "text": [
      "/home/lijingyu/anaconda3/lib/python3.8/site-packages/IPython/core/interactiveshell.py:3165: DtypeWarning: Columns (4) have mixed types.Specify dtype option on import or set low_memory=False.\n",
      "  has_raised = await self.run_ast_nodes(code_ast.body, cell_name,\n"
     ]
    }
   ],
   "source": [
    "df_motifs_hgnc = pd.read_csv(\"/home/lijingyu/art/GRN/motifs-v9-nr.hgnc-m0.001-o0.0.tbl\", sep='\\t')\n",
    "hs_tfs = df_motifs_hgnc.gene_name.unique()"
   ]
  },
  {
   "cell_type": "code",
   "execution_count": 14,
   "metadata": {},
   "outputs": [
    {
     "data": {
      "text/plain": [
       "array(['HOXA9', 'ZNF8', 'ZNF853', ..., 'ABL1', 'FANK1', 'ZEB2'],\n",
       "      dtype=object)"
      ]
     },
     "execution_count": 14,
     "metadata": {},
     "output_type": "execute_result"
    }
   ],
   "source": [
    "hs_tfs"
   ]
  },
  {
   "cell_type": "code",
   "execution_count": 15,
   "metadata": {},
   "outputs": [],
   "source": [
    "f_tfs='/home/lijingyu/art/GRN/hs_hgnc_tfs.txt'"
   ]
  },
  {
   "cell_type": "code",
   "execution_count": 16,
   "metadata": {},
   "outputs": [
    {
     "data": {
      "text/plain": [
       "1839"
      ]
     },
     "execution_count": 16,
     "metadata": {},
     "output_type": "execute_result"
    }
   ],
   "source": [
    "with open(f_tfs, 'wt') as f:\n",
    "    f.write('\\n'.join(hs_tfs) + '\\n')\n",
    "len(hs_tfs)"
   ]
  },
  {
   "cell_type": "code",
   "execution_count": 17,
   "metadata": {},
   "outputs": [],
   "source": [
    "import pyscenic"
   ]
  },
  {
   "cell_type": "code",
   "execution_count": 19,
   "metadata": {},
   "outputs": [],
   "source": [
    "from arboreto.utils import load_tf_names\n",
    "from arboreto.algo import grnboost2\n",
    "from pyscenic.rnkdb import FeatherRankingDatabase as RankingDatabase\n",
    "from pyscenic.utils import modules_from_adjacencies, load_motifs\n",
    "from pyscenic.prune import prune2df, df2regulons\n",
    "from pyscenic.aucell import aucell\n",
    "from typing import Sequence, Type\n",
    "from pyscenic.genesig import Regulon, GeneSignature, openfile"
   ]
  },
  {
   "cell_type": "code",
   "execution_count": 20,
   "metadata": {},
   "outputs": [],
   "source": [
    "tf_names = load_tf_names(f_tfs)"
   ]
  },
  {
   "cell_type": "code",
   "execution_count": 21,
   "metadata": {},
   "outputs": [],
   "source": [
    "adata=adata[:,adata.var_names.isin(np.array(tf_names))|(adata.var['highly_variable'])]"
   ]
  },
  {
   "cell_type": "code",
   "execution_count": 22,
   "metadata": {},
   "outputs": [
    {
     "data": {
      "text/plain": [
       "View of AnnData object with n_obs × n_vars = 2347 × 2756\n",
       "    obs: 'source', 'type1', 'type2', 'nCounts', 'cluster'\n",
       "    var: 'gene', 'n_cells', 'highly_variable', 'means', 'dispersions', 'dispersions_norm'\n",
       "    uns: 'hvg'"
      ]
     },
     "execution_count": 22,
     "metadata": {},
     "output_type": "execute_result"
    }
   ],
   "source": [
    "adata"
   ]
  },
  {
   "cell_type": "code",
   "execution_count": 48,
   "metadata": {},
   "outputs": [],
   "source": [
    "expr=pd.DataFrame(adata.X.toarray(),columns=adata.var_names,index=adata.obs_names)"
   ]
  },
  {
   "cell_type": "code",
   "execution_count": 51,
   "metadata": {},
   "outputs": [
    {
     "name": "stdout",
     "output_type": "stream",
     "text": [
      "preparing dask client\n"
     ]
    },
    {
     "name": "stderr",
     "output_type": "stream",
     "text": [
      "/home/lijingyu/anaconda3/lib/python3.8/site-packages/distributed/node.py:160: UserWarning: Port 8787 is already in use.\n",
      "Perhaps you already have a cluster running?\n",
      "Hosting the HTTP server on port 40529 instead\n",
      "  warnings.warn(\n"
     ]
    },
    {
     "name": "stdout",
     "output_type": "stream",
     "text": [
      "parsing input\n",
      "creating dask graph\n",
      "6 partitions\n",
      "computing dask graph\n",
      "shutting down client and local cluster\n",
      "finished\n"
     ]
    }
   ],
   "source": [
    "adjacencies = grnboost2(expression_data=expr, tf_names=tf_names, verbose=True)"
   ]
  },
  {
   "cell_type": "code",
   "execution_count": 52,
   "metadata": {},
   "outputs": [],
   "source": [
    "adjacencies.to_csv('adj.csv', index=False)\n",
    "#adjacencies = pd.read_csv('adj.csv', sep='\\t')"
   ]
  },
  {
   "cell_type": "code",
   "execution_count": 53,
   "metadata": {},
   "outputs": [],
   "source": [
    "# !arboreto_with_multiprocessing.py \\\n",
    "#     gmat.loom \\\n",
    "#     hs_hgnc_tfs.txt \\\n",
    "#     --method grnboost2 \\\n",
    "#     --output adj.tsv \\\n",
    "#     --num_workers 20 \\\n",
    "#     --seed 777"
   ]
  },
  {
   "cell_type": "code",
   "execution_count": 54,
   "metadata": {},
   "outputs": [],
   "source": [
    "def add_correlation(adjacencies: pd.DataFrame, ex_mtx: pd.DataFrame,\n",
    "                    rho_threshold=0.03, mask_dropouts=False) -> pd.DataFrame:\n",
    "    print(\"Calculating Pearson correlations.\")\n",
    "    COLUMN_NAME_TARGET = \"target\"\n",
    "    COLUMN_NAME_WEIGHT = \"importance\"\n",
    "    COLUMN_NAME_REGULATION = \"regulation\"\n",
    "    COLUMN_NAME_CORRELATION = \"rho\"\n",
    "    COLUMN_NAME_TF = \"TF\"\n",
    "    ex_mtx = ex_mtx.T[~ex_mtx.columns.duplicated(keep='first')].T.astype(float)\n",
    "    assert rho_threshold > 0, \"rho_threshold should be greater than 0.\"\n",
    "    if mask_dropouts:\n",
    "        ex_mtx = ex_mtx.sort_index(axis=1)\n",
    "        col_idx_pairs = _create_idx_pairs(adjacencies, ex_mtx)\n",
    "        rhos = masked_rho4pairs(ex_mtx.values, col_idx_pairs, 0.0)\n",
    "    else:\n",
    "        genes = list(set(adjacencies[COLUMN_NAME_TF]).union(set(adjacencies[COLUMN_NAME_TARGET])))\n",
    "        ex_mtx = ex_mtx[ex_mtx.columns[ex_mtx.columns.isin(genes)]]\n",
    "        corr_mtx = pd.DataFrame(index=ex_mtx.columns, columns=ex_mtx.columns,\n",
    "                                data=np.corrcoef(ex_mtx.values.T))\n",
    "        rhos = np.array([corr_mtx[s2][s1] for s1, s2 in zip(adjacencies.TF, adjacencies.target)])\n",
    "\n",
    "    regulations = (rhos > rho_threshold).astype(int) - (rhos < -rho_threshold).astype(int)\n",
    "    return pd.DataFrame(data={\n",
    "        COLUMN_NAME_TF: adjacencies[COLUMN_NAME_TF].values,\n",
    "        COLUMN_NAME_TARGET: adjacencies[COLUMN_NAME_TARGET].values,\n",
    "        COLUMN_NAME_WEIGHT: adjacencies[COLUMN_NAME_WEIGHT].values,\n",
    "        COLUMN_NAME_REGULATION: regulations,\n",
    "        COLUMN_NAME_CORRELATION: rhos})"
   ]
  },
  {
   "cell_type": "code",
   "execution_count": 55,
   "metadata": {},
   "outputs": [
    {
     "name": "stdout",
     "output_type": "stream",
     "text": [
      "Calculating Pearson correlations.\n"
     ]
    }
   ],
   "source": [
    "adj_add_cor=add_correlation(adjacencies,expr)"
   ]
  },
  {
   "cell_type": "code",
   "execution_count": 100,
   "metadata": {},
   "outputs": [
    {
     "data": {
      "text/html": [
       "<div>\n",
       "<style scoped>\n",
       "    .dataframe tbody tr th:only-of-type {\n",
       "        vertical-align: middle;\n",
       "    }\n",
       "\n",
       "    .dataframe tbody tr th {\n",
       "        vertical-align: top;\n",
       "    }\n",
       "\n",
       "    .dataframe thead th {\n",
       "        text-align: right;\n",
       "    }\n",
       "</style>\n",
       "<table border=\"1\" class=\"dataframe\">\n",
       "  <thead>\n",
       "    <tr style=\"text-align: right;\">\n",
       "      <th></th>\n",
       "      <th>TF</th>\n",
       "      <th>target</th>\n",
       "      <th>importance</th>\n",
       "      <th>regulation</th>\n",
       "      <th>rho</th>\n",
       "    </tr>\n",
       "  </thead>\n",
       "  <tbody>\n",
       "    <tr>\n",
       "      <th>0</th>\n",
       "      <td>Hspa5</td>\n",
       "      <td>Hsp90b1</td>\n",
       "      <td>366.647100</td>\n",
       "      <td>1</td>\n",
       "      <td>0.699135</td>\n",
       "    </tr>\n",
       "    <tr>\n",
       "      <th>1</th>\n",
       "      <td>Hspa5</td>\n",
       "      <td>Calr</td>\n",
       "      <td>323.155078</td>\n",
       "      <td>1</td>\n",
       "      <td>0.663419</td>\n",
       "    </tr>\n",
       "    <tr>\n",
       "      <th>2</th>\n",
       "      <td>Hspa5</td>\n",
       "      <td>Pdia6</td>\n",
       "      <td>291.784193</td>\n",
       "      <td>1</td>\n",
       "      <td>0.631390</td>\n",
       "    </tr>\n",
       "    <tr>\n",
       "      <th>3</th>\n",
       "      <td>Kdm5d</td>\n",
       "      <td>Xist</td>\n",
       "      <td>251.851507</td>\n",
       "      <td>-1</td>\n",
       "      <td>-0.428594</td>\n",
       "    </tr>\n",
       "    <tr>\n",
       "      <th>4</th>\n",
       "      <td>Hspa5</td>\n",
       "      <td>Ppib</td>\n",
       "      <td>251.360778</td>\n",
       "      <td>1</td>\n",
       "      <td>0.536128</td>\n",
       "    </tr>\n",
       "  </tbody>\n",
       "</table>\n",
       "</div>"
      ],
      "text/plain": [
       "      TF   target  importance  regulation       rho\n",
       "0  Hspa5  Hsp90b1  366.647100           1  0.699135\n",
       "1  Hspa5     Calr  323.155078           1  0.663419\n",
       "2  Hspa5    Pdia6  291.784193           1  0.631390\n",
       "3  Kdm5d     Xist  251.851507          -1 -0.428594\n",
       "4  Hspa5     Ppib  251.360778           1  0.536128"
      ]
     },
     "execution_count": 100,
     "metadata": {},
     "output_type": "execute_result"
    }
   ],
   "source": [
    "adj_add_cor.head()"
   ]
  },
  {
   "cell_type": "code",
   "execution_count": 56,
   "metadata": {},
   "outputs": [],
   "source": [
    "adj_add_cor.to_csv('adj_add_cor_new.csv', index=False)\n",
    "#adjacencies = pd.read_csv('adj.csv', sep='\\t')"
   ]
  },
  {
   "cell_type": "code",
   "execution_count": null,
   "metadata": {},
   "outputs": [],
   "source": []
  }
 ],
 "metadata": {
  "kernelspec": {
   "display_name": "Python 3",
   "language": "python",
   "name": "python3"
  },
  "language_info": {
   "codemirror_mode": {
    "name": "ipython",
    "version": 3
   },
   "file_extension": ".py",
   "mimetype": "text/x-python",
   "name": "python",
   "nbconvert_exporter": "python",
   "pygments_lexer": "ipython3",
   "version": "3.8.3"
  },
  "varInspector": {
   "cols": {
    "lenName": 16,
    "lenType": 16,
    "lenVar": 40
   },
   "kernels_config": {
    "python": {
     "delete_cmd_postfix": "",
     "delete_cmd_prefix": "del ",
     "library": "var_list.py",
     "varRefreshCmd": "print(var_dic_list())"
    },
    "r": {
     "delete_cmd_postfix": ") ",
     "delete_cmd_prefix": "rm(",
     "library": "var_list.r",
     "varRefreshCmd": "cat(var_dic_list()) "
    }
   },
   "types_to_exclude": [
    "module",
    "function",
    "builtin_function_or_method",
    "instance",
    "_Feature"
   ],
   "window_display": false
  }
 },
 "nbformat": 4,
 "nbformat_minor": 5
}
